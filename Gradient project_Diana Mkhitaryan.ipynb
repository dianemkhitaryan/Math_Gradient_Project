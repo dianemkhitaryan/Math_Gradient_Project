{
 "cells": [
  {
   "cell_type": "code",
   "execution_count": 1,
   "id": "c09acf4f",
   "metadata": {},
   "outputs": [
    {
     "name": "stdout",
     "output_type": "stream",
     "text": [
      "Enter the coordinates x and y of a point in R²: 2 3\n",
      "The gradient of the function f(x,y) = x²y - xy² at (2, 3) point is (3, -8)\n"
     ]
    }
   ],
   "source": [
    "try:\n",
    "    a, b = map(int,input('Enter the coordinates x and y of a point in R²: ').split())\n",
    "    def partial_derivative_x(x, y):\n",
    "        return 2*x*y - y**2\n",
    "    def partial_derivative_y(x, y):\n",
    "        return x**2 - 2*x*y\n",
    "    gradient = (partial_derivative_x(a, b), partial_derivative_y(a, b))\n",
    "    print(f\"The gradient of the function f(x,y) = x²y - xy² at {a, b} point is {gradient}\")\n",
    "except ValueError:\n",
    "    print('The input is not valid. Please enter only numerical value: ')\n"
   ]
  }
 ],
 "metadata": {
  "kernelspec": {
   "display_name": "Python 3",
   "language": "python",
   "name": "python3"
  },
  "language_info": {
   "codemirror_mode": {
    "name": "ipython",
    "version": 3
   },
   "file_extension": ".py",
   "mimetype": "text/x-python",
   "name": "python",
   "nbconvert_exporter": "python",
   "pygments_lexer": "ipython3",
   "version": "3.8.8"
  }
 },
 "nbformat": 4,
 "nbformat_minor": 5
}
